{
 "cells": [
  {
   "cell_type": "markdown",
   "metadata": {},
   "source": [
    "# Media Mix Modeling (MMM) Tutorial\n",
    "\n",
    "This notebook demonstrates how to build and analyze a Marketing Mix Model using PyMC Marketing."
   ]
  },
  {
   "cell_type": "markdown",
   "metadata": {},
   "source": [
    "## Prepare Notebook\n",
    "\n",
    "Let's import the necessary libraries:"
   ]
  },
  {
   "cell_type": "code",
   "execution_count": 1,
   "metadata": {},
   "outputs": [],
   "source": [
    "import sys\n",
    "sys.path.insert(0, \".\")"
   ]
  },
  {
   "cell_type": "code",
   "execution_count": 5,
   "metadata": {},
   "outputs": [],
   "source": [
    "from pymc_marketing.mmm.mmm import MMM\n",
    "from pymc_marketing.mmm.components import adstock, saturation\n",
    "import arviz as az\n",
    "import matplotlib.pyplot as plt\n",
    "import numpy as np\n",
    "import pandas as pd\n",
    "from pymc_extras.prior import Prior\n",
    "import pytensor"
   ]
  },
  {
   "cell_type": "code",
   "execution_count": null,
   "metadata": {},
   "outputs": [],
   "source": [
    "\n",
    "\n",
    "az.style.use(\"arviz-darkgrid\")\n",
    "plt.rcParams[\"figure.figsize\"] = [12, 7]\n",
    "plt.rcParams[\"figure.dpi\"] = 100\n",
    "\n",
    "%config InlineBackend.figure_format = \"retina\"\n",
    "\n",
    "%load_ext autoreload\n",
    "%autoreload 2"
   ]
  },
  {
   "cell_type": "code",
   "execution_count": null,
   "metadata": {},
   "outputs": [],
   "source": [
    "# Set random seed for reproducibility\n",
    "seed = sum(map(ord, \"mmm\"))\n",
    "rng = np.random.default_rng(seed=seed)"
   ]
  },
  {
   "cell_type": "markdown",
   "metadata": {},
   "source": [
    "## Load Data\n",
    "\n",
    "We'll use a synthetic dataset that simulates weekly sales data along with spend on two marketing channels (x1 and x2), plus some control variables for special events."
   ]
  },
  {
   "cell_type": "code",
   "execution_count": null,
   "metadata": {},
   "outputs": [],
   "source": [
    "# Load the data\n",
    "url = \"https://raw.githubusercontent.com/pymc-labs/pymc-marketing/main/data/mmm_example.csv\"\n",
    "data = pd.read_csv(url, parse_dates=[\"date_week\"])\n",
    "\n",
    "print(f\"Data shape: {data.shape}\")\n",
    "data.head()"
   ]
  },
  {
   "cell_type": "markdown",
   "metadata": {},
   "source": [
    "Let's visualize our target variable (sales) and the media spend over time:"
   ]
  },
  {
   "cell_type": "code",
   "execution_count": null,
   "metadata": {},
   "outputs": [],
   "source": [
    "fig, axes = plt.subplots(3, 1, figsize=(12, 9), sharex=True)\n",
    "\n",
    "# Sales\n",
    "axes[0].plot(data[\"date_week\"], data[\"y\"], color=\"black\", linewidth=2)\n",
    "axes[0].set(ylabel=\"Sales\", title=\"Target Variable: Sales\")\n",
    "\n",
    "# Channel 1\n",
    "axes[1].plot(data[\"date_week\"], data[\"x1\"], color=\"C0\", linewidth=2)\n",
    "axes[1].set(ylabel=\"Spend\", title=\"Channel x1\")\n",
    "\n",
    "# Channel 2\n",
    "axes[2].plot(data[\"date_week\"], data[\"x2\"], color=\"C1\", linewidth=2)\n",
    "axes[2].set(xlabel=\"Date\", ylabel=\"Spend\", title=\"Channel x2\");"
   ]
  },
  {
   "cell_type": "markdown",
   "metadata": {},
   "source": [
    "## Feature Engineering\n",
    "\n",
    "For our MMM model, we'll include:\n",
    "\n",
    "- **Trend**: A linear trend to capture long-term growth\n",
    "- **Seasonality**: Yearly seasonality (handled automatically by the model)\n",
    "- **Events**: Binary indicators for special events\n",
    "- **Media channels**: Our two advertising channels"
   ]
  },
  {
   "cell_type": "code",
   "execution_count": null,
   "metadata": {},
   "outputs": [],
   "source": [
    "# Add a simple linear trend feature\n",
    "data[\"t\"] = range(len(data))\n",
    "\n",
    "# Split into features (X) and target (y)\n",
    "X = data.drop(\"y\", axis=1)\n",
    "y = data[\"y\"]\n",
    "\n",
    "print(f\"Features: {X.columns.tolist()}\")"
   ]
  },
  {
   "cell_type": "markdown",
   "metadata": {},
   "source": [
    "## Model Specification\n",
    "\n",
    "Now we'll configure our MMM model. The key components are:\n",
    "\n",
    "- **Adstock transformation**: We use GeometricAdstock with a maximum lag of 8 weeks\n",
    "- **Saturation transformation**: We use LogisticSaturation to capture diminishing returns\n",
    "- **Priors**: We can customize priors based on domain knowledge"
   ]
  },
  {
   "cell_type": "markdown",
   "metadata": {},
   "source": [
    "### Setting Priors\n",
    "\n",
    "One powerful feature of Bayesian modeling is the ability to incorporate prior knowledge. Here's a simple heuristic for channel priors based on spend share:"
   ]
  },
  {
   "cell_type": "code",
   "execution_count": null,
   "metadata": {},
   "outputs": [],
   "source": [
    "# Calculate spend share for each channel\n",
    "total_spend_per_channel = data[[\"x1\", \"x2\"]].sum(axis=0)\n",
    "spend_share = total_spend_per_channel / total_spend_per_channel.sum()\n",
    "\n",
    "print(\"Spend share per channel:\")\n",
    "print(spend_share)\n",
    "\n",
    "# Use spend share to inform prior on channel contributions\n",
    "n_channels = 2\n",
    "prior_sigma = n_channels * spend_share.to_numpy()\n",
    "\n",
    "print(f\"\\nPrior sigma for channels: {prior_sigma}\")"
   ]
  },
  {
   "cell_type": "markdown",
   "metadata": {},
   "source": [
    "Now let's define our model configuration:"
   ]
  },
  {
   "cell_type": "code",
   "execution_count": null,
   "metadata": {},
   "outputs": [],
   "source": [
    "my_model_config = {\n",
    "    \"intercept\": Prior(\"Normal\", mu=0.5, sigma=0.2),\n",
    "    \"saturation_beta\": Prior(\"HalfNormal\", sigma=prior_sigma),\n",
    "    \"gamma_control\": Prior(\"Normal\", mu=0, sigma=0.05),\n",
    "    \"gamma_fourier\": Prior(\"Laplace\", mu=0, b=0.2),\n",
    "    \"likelihood\": Prior(\"Normal\", sigma=Prior(\"HalfNormal\", sigma=6)),\n",
    "}\n",
    "\n",
    "# Sampler configuration\n",
    "my_sampler_config = {\"progressbar\": True}\n",
    "\n",
    "# Initialize the MMM model\n",
    "mmm = MMM(\n",
    "    model_config=my_model_config,\n",
    "    sampler_config=my_sampler_config,\n",
    "    date_column=\"date_week\",\n",
    "    adstock=GeometricAdstock(l_max=8),\n",
    "    saturation=LogisticSaturation(),\n",
    "    channel_columns=[\"x1\", \"x2\"],\n",
    "    control_columns=[\"event_1\", \"event_2\", \"t\"],\n",
    "    yearly_seasonality=2,\n",
    ")"
   ]
  },
  {
   "cell_type": "markdown",
   "metadata": {},
   "source": [
    "## Prior Predictive Check\n",
    "\n",
    "> **Tip**: The prior predictive check is a good way to check that our priors are reasonable. Hence, it is strongly recommended to perform this check before fitting the model. If you are new to Bayesian modeling, take a look into our Prior Predictive Modeling guide notebook.\n",
    "\n",
    "Before fitting, let's check that our priors are reasonable:"
   ]
  },
  {
   "cell_type": "code",
   "execution_count": null,
   "metadata": {},
   "outputs": [],
   "source": [
    "# Generate prior predictive samples\n",
    "mmm.sample_prior_predictive(X, y, samples=1_000, random_seed=rng)\n",
    "\n",
    "# Plot prior predictive distribution\n",
    "fig, ax = plt.subplots(figsize=(12, 6))\n",
    "mmm.plot_prior_predictive(ax=ax, original_scale=True)\n",
    "ax.legend(loc=\"upper left\")\n",
    "ax.set_title(\"Prior Predictive Check\");"
   ]
  },
  {
   "cell_type": "markdown",
   "metadata": {},
   "source": [
    "Overall, the prior predictive check looks good."
   ]
  },
  {
   "cell_type": "markdown",
   "metadata": {},
   "source": [
    "## Model Fitting\n",
    "\n",
    "Now let's fit the model to our data using MCMC sampling. Observe that we can use different samplers by passing the `nuts_sampler` argument. For instance, we can use `numpyro`, `nutpie`, or `blackjax` samplers (see Other NUTS Samplers for more details)."
   ]
  },
  {
   "cell_type": "code",
   "execution_count": null,
   "metadata": {},
   "outputs": [],
   "source": [
    "# Fit the model\n",
    "_ = mmm.fit(\n",
    "    X=X,\n",
    "    y=y,\n",
    "    chains=4,\n",
    "    target_accept=0.85,\n",
    "    nuts_sampler=\"numpyro\",\n",
    "    random_seed=rng,\n",
    ")"
   ]
  },
  {
   "cell_type": "markdown",
   "metadata": {},
   "source": [
    "## Model Diagnostics\n",
    "\n",
    "After fitting, we should check the model quality. Let's start with divergences:"
   ]
  },
  {
   "cell_type": "code",
   "execution_count": null,
   "metadata": {},
   "outputs": [],
   "source": [
    "# Check for divergences\n",
    "n_divergences = mmm.idata[\"sample_stats\"][\"diverging\"].sum().item()\n",
    "print(f\"Number of divergences: {n_divergences}\")\n",
    "\n",
    "if n_divergences == 0:\n",
    "    print(\"✓ No divergences - sampling was successful!\")\n",
    "else:\n",
    "    print(\"⚠ Warning: Model had divergences. Consider increasing target_accept.\")"
   ]
  },
  {
   "cell_type": "markdown",
   "metadata": {},
   "source": [
    "### Parameter Summary\n",
    "\n",
    "Let's examine the estimated parameters:"
   ]
  },
  {
   "cell_type": "code",
   "execution_count": null,
   "metadata": {},
   "outputs": [],
   "source": [
    "# Plot traces for key parameters\n",
    "_ = az.plot_trace(\n",
    "    data=mmm.fit_result,\n",
    "    var_names=[\n",
    "        \"saturation_beta\",\n",
    "        \"saturation_lam\",\n",
    "        \"adstock_alpha\",\n",
    "    ],\n",
    "    compact=True,\n",
    "    backend_kwargs={\"figsize\": (10, 6), \"layout\": \"constrained\"},\n",
    ")\n",
    "plt.gcf().suptitle(\"Trace Plots\", fontsize=16);"
   ]
  },
  {
   "cell_type": "markdown",
   "metadata": {},
   "source": [
    "Good trace plots should show:\n",
    "\n",
    "- **Left side**: Smooth, bell-shaped distributions\n",
    "- **Right side**: \"Fuzzy caterpillar\" patterns (good mixing) with no trends"
   ]
  },
  {
   "cell_type": "markdown",
   "metadata": {},
   "source": [
    "## Posterior Predictive Check\n",
    "\n",
    "How well does our model fit the observed data?"
   ]
  },
  {
   "cell_type": "code",
   "execution_count": null,
   "metadata": {},
   "outputs": [],
   "source": [
    "# Sample from posterior predictive distribution\n",
    "mmm.sample_posterior_predictive(X, extend_idata=True, combined=True)\n",
    "\n",
    "# Plot model fit\n",
    "fig = mmm.plot_posterior_predictive(original_scale=True)"
   ]
  },
  {
   "cell_type": "markdown",
   "metadata": {},
   "source": [
    "The model captures the observed data well if the black dots (actual sales) fall within the shaded uncertainty bands."
   ]
  },
  {
   "cell_type": "markdown",
   "metadata": {},
   "source": [
    "## Contribution Analysis\n",
    "\n",
    "Now for the fun part—understanding how much each component contributes to sales!"
   ]
  },
  {
   "cell_type": "markdown",
   "metadata": {},
   "source": [
    "### Component Contributions Over Time\n",
    "\n",
    "Let's visualize the contribution of each component of the model over time:"
   ]
  },
  {
   "cell_type": "code",
   "execution_count": null,
   "metadata": {},
   "outputs": [],
   "source": [
    "fig = mmm.plot_components_contributions(original_scale=True)\n",
    "plt.suptitle(\"Component Contributions to Sales\", fontsize=16, y=1.02);"
   ]
  },
  {
   "cell_type": "markdown",
   "metadata": {},
   "source": [
    "We see that we have captured the linear trend, events contributions and the seasonalities in the data. The remaining variation is due to the media channels, which is exactly what we want to understand."
   ]
  },
  {
   "cell_type": "markdown",
   "metadata": {},
   "source": [
    "### Waterfall Chart: Total Contribution by Component\n",
    "\n",
    "A waterfall chart shows the total contribution of each component across the entire time period:"
   ]
  },
  {
   "cell_type": "code",
   "execution_count": null,
   "metadata": {},
   "outputs": [],
   "source": [
    "# Waterfall decomposition\n",
    "fig = mmm.plot_waterfall_components_decomposition();"
   ]
  },
  {
   "cell_type": "markdown",
   "metadata": {},
   "source": [
    "This chart answers the question: \"How much did each component contribute to total sales?\""
   ]
  },
  {
   "cell_type": "markdown",
   "metadata": {},
   "source": [
    "### Channel Contribution Share\n",
    "\n",
    "What percentage of media-driven sales comes from each channel?"
   ]
  },
  {
   "cell_type": "code",
   "execution_count": null,
   "metadata": {},
   "outputs": [],
   "source": [
    "# Plot channel contribution share\n",
    "fig = mmm.plot_channel_contribution_share_hdi(figsize=(7, 5));"
   ]
  },
  {
   "cell_type": "markdown",
   "metadata": {},
   "source": [
    "### Direct Contribution Curves\n",
    "\n",
    "These curves show the relationship between spend and contribution, accounting for saturation:"
   ]
  },
  {
   "cell_type": "code",
   "execution_count": null,
   "metadata": {},
   "outputs": [],
   "source": [
    "# Plot direct contribution curves (saturation curves)\n",
    "fig = mmm.plot_direct_contribution_curves()\n",
    "plt.suptitle(\"Direct Contribution Curves\", fontsize=16, y=1.02);"
   ]
  },
  {
   "cell_type": "markdown",
   "metadata": {},
   "source": [
    "Notice how the curves flatten at higher spend levels—this is the saturation effect in action!"
   ]
  },
  {
   "cell_type": "markdown",
   "metadata": {},
   "source": [
    "### Channel Contribution Grid\n",
    "\n",
    "A complementary view of the media performance is to evaluate the channel contribution at different share spend levels for the complete training period. Concretely, if we denote by α the input channel data percentage level, so that for α=1 we have the model input spend data and for α=1.5 we have a 50% increase in the spend, then we can compute the channel contribution at a grid of α-values and plot the results:"
   ]
  },
  {
   "cell_type": "code",
   "execution_count": null,
   "metadata": {},
   "outputs": [],
   "source": [
    "mmm.plot_channel_contribution_grid(start=0, stop=1.5, num=12, absolute_xrange=True);"
   ]
  }
 ],
 "metadata": {
  "kernelspec": {
   "display_name": "myenv",
   "language": "python",
   "name": "python3"
  },
  "language_info": {
   "codemirror_mode": {
    "name": "ipython",
    "version": 3
   },
   "file_extension": ".py",
   "mimetype": "text/x-python",
   "name": "python",
   "nbconvert_exporter": "python",
   "pygments_lexer": "ipython3",
   "version": "3.13.5"
  }
 },
 "nbformat": 4,
 "nbformat_minor": 4
}
